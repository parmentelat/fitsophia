{
 "cells": [
  {
   "cell_type": "markdown",
   "metadata": {},
   "source": [
    "# How to plot R2lab Radio-Maps\n",
    "\n"
   ]
  },
  {
   "cell_type": "markdown",
   "metadata": {
    "run_control": {
     "frozen": false,
     "read_only": false
    }
   },
   "source": [
    "## Preparation\n",
    "\n",
    "\n",
    "\n"
   ]
  },
  {
   "cell_type": "markdown",
   "metadata": {},
   "source": [
    "\n",
    "\n",
    "\n",
    "\n"
   ]
  },
  {
   "cell_type": "code",
   "execution_count": null,
   "metadata": {
    "collapsed": true,
    "run_control": {
     "frozen": false,
     "read_only": false
    }
   },
   "outputs": [],
   "source": [
    "# automatic reload of modules in case of changes\n",
    "%load_ext autoreload\n",
    "%autoreload 2"
   ]
  },
  {
   "cell_type": "markdown",
   "metadata": {
    "run_control": {
     "frozen": false,
     "read_only": false
    }
   },
   "source": [
    "## Importing plotly"
   ]
  },
  {
   "cell_type": "code",
   "execution_count": null,
   "metadata": {
    "run_control": {
     "frozen": false,
     "read_only": false
    }
   },
   "outputs": [],
   "source": [
    "import plotly\n",
    "plotly.__version__"
   ]
  },
  {
   "cell_type": "code",
   "execution_count": null,
   "metadata": {
    "collapsed": true,
    "run_control": {
     "frozen": false,
     "read_only": false
    }
   },
   "outputs": [],
   "source": [
    "import plotly.plotly as py\n",
    "import plotly.graph_objs as go"
   ]
  },
  {
   "cell_type": "code",
   "execution_count": null,
   "metadata": {
    "run_control": {
     "frozen": false,
     "read_only": false
    }
   },
   "outputs": [],
   "source": [
    "# using plotly in offline mode is a requirement \n",
    "# in interactive mode - too slow otherwise\n",
    "import plotly.offline as pyoff\n",
    "\n",
    "pyoff.init_notebook_mode()"
   ]
  },
  {
   "cell_type": "code",
   "execution_count": null,
   "metadata": {
    "collapsed": true,
    "run_control": {
     "frozen": false,
     "read_only": false
    }
   },
   "outputs": [],
   "source": [
    "# interactive notebook widgets \n",
    "from ipywidgets import interact, fixed, IntSlider, Dropdown"
   ]
  },
  {
   "cell_type": "markdown",
   "metadata": {
    "run_control": {
     "frozen": false,
     "read_only": false
    }
   },
   "source": [
    "***"
   ]
  },
  {
   "cell_type": "markdown",
   "metadata": {
    "run_control": {
     "frozen": false,
     "read_only": false
    }
   },
   "source": [
    "## Importing a few utilities to retrieve RSSI data from files and convert it to arrays"
   ]
  },
  {
   "cell_type": "code",
   "execution_count": null,
   "metadata": {
    "collapsed": true,
    "run_control": {
     "frozen": false,
     "read_only": false
    }
   },
   "outputs": [],
   "source": [
    "# to extract data from a RSSI file\n",
    "from rssi import read_rssi"
   ]
  },
  {
   "cell_type": "code",
   "execution_count": null,
   "metadata": {
    "collapsed": true,
    "run_control": {
     "frozen": false,
     "read_only": false
    }
   },
   "outputs": [],
   "source": [
    "# convert data into x, y and z\n",
    "from r2labmap import dict_to_xyzt, dict_to_3Dxyzt"
   ]
  },
  {
   "cell_type": "markdown",
   "metadata": {},
   "source": [
    "## R2lab RSSI data "
   ]
  },
  {
   "cell_type": "markdown",
   "metadata": {},
   "source": [
    "Exploring a collection of `RSSI.txt` files; assume we have collected the following files on the data directory:"
   ]
  },
  {
   "cell_type": "markdown",
   "metadata": {},
   "source": [
    "```\n",
    "$ wc -l data/tra*/R*\n",
    "   1369 trace-T1400-r1-a1-t1-i0.008-S64-N10/RSSI.txt\n",
    "   1369 trace-T1400-r1-a3-t1-i0.008-S64-N10/RSSI.txt\n",
    "   1369 trace-T1400-r1-a7-t1-i0.008-S64-N10/RSSI.txt\n",
    "   1369 trace-T1400-r54-a1-t1-i0.008-S64-N10/RSSI.txt\n",
    "   1369 trace-T1400-r54-a3-t1-i0.008-S64-N10/RSSI.txt\n",
    "   1369 trace-T1400-r54-a7-t1-i0.008-S64-N10/RSSI.txt\n",
    "   1369 trace-T500-r1-a1-t1-i0.008-S64-N10/RSSI.txt\n",
    "   1369 trace-T500-r1-a3-t1-i0.008-S64-N10/RSSI.txt\n",
    "   1369 trace-T500-r1-a7-t1-i0.008-S64-N10/RSSI.txt\n",
    "   1369 trace-T500-r54-a1-t1-i0.008-S64-N10/RSSI.txt\n",
    "   1369 trace-T500-r54-a3-t1-i0.008-S64-N10/RSSI.txt\n",
    "   1369 trace-T500-r54-a7-t1-i0.008-S64-N10/RSSI.txt\n",
    "```"
   ]
  },
  {
   "cell_type": "markdown",
   "metadata": {},
   "source": [
    "Where\n",
    "\n",
    "* `T500` means an emission power of 5dBm\n",
    "* `T1400` means an emission power of 14dBm\n",
    "\n",
    "* r1 means PHY rate=1Mbps\n",
    "* r54 means PHY rate=54Mbps\n",
    "\n",
    "* `a1` means 1 single valid antenna - and so 2 values in RSSI.txt\n",
    "* `a3` means 2 valid antennas - and so 3 values in RSSI.txt\n",
    "* `a7` means 4 valid antennas - and so 4 value in RSSI.txt\n",
    "\n",
    "* `t1`, `i0`, `S64` and `N10` are ping parameters that are constant across the whole experiment\n"
   ]
  },
  {
   "cell_type": "markdown",
   "metadata": {},
   "source": [
    "# Generating  2D RSSI Radio-Maps "
   ]
  },
  {
   "cell_type": "code",
   "execution_count": null,
   "metadata": {
    "collapsed": true
   },
   "outputs": [],
   "source": [
    "def radiomap2D(sender, power, rate, antennas, rssi_rank):\n",
    "    t_part = \"T{}\".format(power*100)\n",
    "    r_part = \"r{}\".format(rate)\n",
    "    # assuming antennas to be 1 3 or 7\n",
    "    a_part = \"a{}\".format(antennas)\n",
    "    filename = \"data/trace-{t_part}-{r_part}-{a_part}-t1-i0.008-S64-N10/RSSI.txt\"\\\n",
    "               .format(**locals())\n",
    "    \n",
    "    data_dict = read_rssi(filename, sender, rssi_rank)\n",
    "    if not data_dict:\n",
    "        return\n",
    "\n",
    "    X, Y, Z, T = dict_to_xyzt(data_dict)\n",
    "    rssi = go.Heatmap( x=X, y=Y, z=Z, text=T, zmin=-100, zmax=0, zauto=False, opacity=1)\n",
    "    data = [rssi]\n",
    "    layout = go.Layout(\n",
    "        title=\"R2lab Radio-Map: Rx power (in dBm) when fit{:02d} is transmitting<br>from {}\"\n",
    "              .format(sender, filename))\n",
    "    figure = go.Figure(data = data, layout=layout)\n",
    "    pyoff.iplot(figure)"
   ]
  },
  {
   "cell_type": "code",
   "execution_count": null,
   "metadata": {},
   "outputs": [],
   "source": [
    "interact(radiomap2D, \n",
    "         sender=IntSlider(min=1, max=37, step=1, value=21, continuous_update=False),\n",
    "         power=Dropdown( options=[5, 14], value=5, description=\"Tx power in dBm\"),\n",
    "         rate=Dropdown(options=[1, 54], value=1, description=\"PHY channel rate\"),\n",
    "         # yeah, this is weird all right\n",
    "         antennas=Dropdown(options={\"1\" : 1, \"2\": 3, \"3\": 7},\n",
    "                           value=1,\n",
    "                           description=\"Number of antennas: \"),\n",
    "         rssi_rank=IntSlider(min=0, max=3, value=0, \n",
    "                             description=\"RSSI rank: \"),\n",
    "        )"
   ]
  },
  {
   "cell_type": "markdown",
   "metadata": {},
   "source": [
    "# Generating 3D RSSI Radio-Maps"
   ]
  },
  {
   "cell_type": "code",
   "execution_count": null,
   "metadata": {
    "collapsed": true,
    "run_control": {
     "frozen": false,
     "read_only": false
    }
   },
   "outputs": [],
   "source": [
    "def radiomap3D(sender, power, rate, antennas, rssi_rank):\n",
    "    \n",
    "    t_part = \"T{}\".format(power*100)\n",
    "    r_part = \"r{}\".format(rate)\n",
    "    # assuming antennas to be 1 3 or 7\n",
    "    a_part = \"a{}\".format(antennas)\n",
    "    filename = \"data/trace-{t_part}-{r_part}-{a_part}-t1-i0.008-S64-N10/RSSI.txt\"\\\n",
    "               .format(**locals())\n",
    "    \n",
    "    data_dict = read_rssi(filename, sender, rssi_rank)\n",
    "    if not data_dict:\n",
    "        return\n",
    "\n",
    "    X, Y, Z, T = dict_to_3Dxyzt(data_dict)\n",
    "    trace = go.Surface(x=X, y=Y, z=Z, text=T)\n",
    "    #,connectgaps=True\n",
    "    data_test = go.Data([trace])\n",
    "    axis = dict(\n",
    "        showbackground=True, # show axis background                                                   \n",
    "        backgroundcolor=\"rgb(204, 204, 204)\", # set background color to grey                          \n",
    "        gridcolor=\"rgb(255, 255, 255)\",       # set grid line color                                   \n",
    "        zerolinecolor=\"rgb(255, 255, 255)\",   # set zero grid line color                              \n",
    "    )\n",
    "    title=\"R2lab Radio-Map: Rx power (in dBm) when fit{:02d} is transmitting<br>from {}\".format(sender, filename)\n",
    "    layout = go.Layout(\n",
    "        autosize=True,\n",
    "        title = title,\n",
    "        scene=go.Scene(                                     \n",
    "            xaxis=go.XAxis(axis), # set x-axis style                                                  \n",
    "            yaxis=go.YAxis(axis), # set y-axis style                                                  \n",
    "            zaxis=go.ZAxis(axis, title=\"RSSI (dBm)  \")  # set z-axis style                                                  \n",
    "        )\n",
    "    )\n",
    "    \n",
    "    figure = go.Figure(data=data_test, layout=layout)\n",
    "    pyoff.iplot(figure)"
   ]
  },
  {
   "cell_type": "code",
   "execution_count": null,
   "metadata": {
    "cell_style": "center",
    "run_control": {
     "frozen": false,
     "read_only": false
    }
   },
   "outputs": [],
   "source": [
    "interact(radiomap3D, \n",
    "         sender=IntSlider(min=1, max=37, step=1, value=21, continuous_update=False),\n",
    "         power=Dropdown( options=[5, 14], value=5, description=\"Tx power in dBm\"),\n",
    "         rate=Dropdown(options=[1, 54], value=1, description=\"PHY channel rate\"),\n",
    "         # yeah, this is weird all right\n",
    "         antennas=Dropdown(options={\"1\" : 1, \"2\": 3, \"3\": 7},\n",
    "                           value=1,\n",
    "                           description=\"Number of antennas: \"),\n",
    "         rssi_rank=IntSlider(min=0, max=3, value=0, \n",
    "                             description=\"RSSI rank: \"),\n",
    "        )"
   ]
  }
 ],
 "metadata": {
  "kernelspec": {
   "display_name": "Python 3",
   "language": "python",
   "name": "python3"
  },
  "language_info": {
   "codemirror_mode": {
    "name": "ipython",
    "version": 3
   },
   "file_extension": ".py",
   "mimetype": "text/x-python",
   "name": "python",
   "nbconvert_exporter": "python",
   "pygments_lexer": "ipython3",
   "version": "3.5.2"
  },
  "toc": {
   "colors": {
    "hover_highlight": "#DAA520",
    "running_highlight": "#FF0000",
    "selected_highlight": "#FFD700"
   },
   "moveMenuLeft": true,
   "nav_menu": {
    "height": "12px",
    "width": "252px"
   },
   "navigate_menu": true,
   "number_sections": true,
   "sideBar": true,
   "threshold": "2",
   "toc_cell": false,
   "toc_section_display": "block",
   "toc_window_display": false,
   "widenNotebook": false
  },
  "widgets": {
   "state": {
    "4db5caa0cdb343b5a2991b03fd7cec7c": {
     "views": [
      {
       "cell_index": 14
      }
     ]
    },
    "777859b14ce649259f9b850f7afe75b1": {
     "views": [
      {
       "cell_index": 20
      }
     ]
    }
   },
   "version": "1.2.0"
  }
 },
 "nbformat": 4,
 "nbformat_minor": 2
}
