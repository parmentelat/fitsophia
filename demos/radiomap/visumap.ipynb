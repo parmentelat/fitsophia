{
 "cells": [
  {
   "cell_type": "markdown",
   "metadata": {
    "run_control": {
     "frozen": false,
     "read_only": false
    }
   },
   "source": [
    "<span style=\"float:left;\">Licence CC BY-NC-ND</span>"
   ]
  },
  {
   "cell_type": "markdown",
   "metadata": {
    "run_control": {
     "frozen": false,
     "read_only": false
    }
   },
   "source": [
    "# Purpose"
   ]
  },
  {
   "cell_type": "markdown",
   "metadata": {
    "run_control": {
     "frozen": false,
     "read_only": false
    }
   },
   "source": [
    "R2lab's radiomap is a set of measurements that act as a calibration of the testbed.\n",
    "The goal is to measure and visualize **received power** at **all node locations** \n",
    "when a radio signal is sent **from any given sender** node.\n",
    "\n",
    "Additionally, that same experiment is carried out with **various settings** \n",
    "for the emitted signal, like emission power, Tx rate, channel frequency, \n",
    "and with various antenna setups (single antenna, multiple antennas)."
   ]
  },
  {
   "cell_type": "markdown",
   "metadata": {
    "run_control": {
     "frozen": false,
     "read_only": false
    }
   },
   "source": [
    "## Workflow"
   ]
  },
  {
   "cell_type": "markdown",
   "metadata": {
    "run_control": {
     "frozen": false,
     "read_only": false
    }
   },
   "source": [
    "End to end experiment involves 2 successive stages:\n",
    "\n",
    "1. **data acquisition** : per se, including post-processing (aggregation); this can be carried out with the `acquiremap.py` python script, or interactively through the first part of the present `visumap.ipynb` notebook\n",
    "1. **visualization** : interactively, through the second part of this notebook\n",
    "\n",
    "For convenience, this git repository also features a directory `datasample` that contains one dataset obtained by running the first-stage acquisition script, so that visualization can be performed right away, as a way to give a quick sense of the results. "
   ]
  },
  {
   "cell_type": "markdown",
   "metadata": {
    "run_control": {
     "frozen": false,
     "read_only": false
    }
   },
   "source": [
    "## Notebook Installation \n",
    "\n",
    "Here's a list of instructions for setting up the notebook tool jupyter (on OSX):\n",
    "\n",
    "```\n",
    "$ sudo pip3 install jupyter \n",
    "$ sudo pip3 install --upgrade notebook\n",
    "$ jupyter nbextension enable --py --sys-prefix widgetsnbextension\n",
    "$ sudo pip3 install plotly \n",
    "```\n",
    "\n",
    "Then start a notebook server as usual\n",
    "```\n",
    "$ jupyter notebook\n",
    "```\n",
    "\n",
    "You may need to mention this extra option if you run an early release of jupyter-5.0\n",
    "```\n",
    "$ jupyter notebook --NotebookApp.iopub_data_rate_limit=10000000000\n",
    "```\n",
    "\n",
    "Likewise, on macOS there may be a need to add this option with jupyter as of June 2017, (regardless of your default browser)\n",
    "\n",
    "```\n",
    "$ jupyter notebook NotebookApp.browser=Safari\n",
    "```\n",
    "\n",
    "Once the notebook web page shows up, double click on the file `visumap.ipynb` on your browser, and evaluate the commands using \"Shift-Enter\" (if needed, see other Internet resources about how to use a notebook).\n",
    "\n",
    "The notebook contains all information about its own capabilities."
   ]
  },
  {
   "cell_type": "markdown",
   "metadata": {
    "run_control": {
     "frozen": false,
     "read_only": false
    }
   },
   "source": [
    "# Data acquisition with `acquiremap.py`"
   ]
  },
  {
   "cell_type": "markdown",
   "metadata": {
    "run_control": {
     "frozen": false,
     "read_only": false
    }
   },
   "source": [
    "This script is designed to expose to the outside 3 levels of scenarios:\n",
    "\n",
    "* a `one_run` python function, that runs a complete set of measurements on all nodes, with a specific combination of environment settings (like transmission power, number of antennas, and similar)\n",
    "\n",
    "* a `all_runs` python function, that calls `one_run` with all possible values for the environment settings\n",
    "\n",
    "* the script itself, when invoked from the command-line, calls `all_runs` with the environment settings described as command-line options.\n",
    "\n",
    "Additionally, all these functions can be instructed to perform node initializations (load a fresh image on all nodes, and turn off unused nodes). When this feature is turned on with the 2 multiple-runs versions (either `all_runs` or at script-level), nodes initialization is performed only once before the the first invokation of `one_run`."
   ]
  },
  {
   "cell_type": "code",
   "execution_count": null,
   "metadata": {
    "collapsed": true,
    "run_control": {
     "frozen": false,
     "read_only": false
    }
   },
   "outputs": [],
   "source": [
    "# for convenience, we use this notebook extension\n",
    "# that will reload the python file if changed from \n",
    "# a text editor\n",
    "%load_ext autoreload\n",
    "%autoreload 2"
   ]
  },
  {
   "cell_type": "markdown",
   "metadata": {
    "run_control": {
     "frozen": false,
     "read_only": false
    }
   },
   "source": [
    "## `one_run`"
   ]
  },
  {
   "cell_type": "markdown",
   "metadata": {
    "run_control": {
     "frozen": false,
     "read_only": false
    }
   },
   "source": [
    "`one_run` performs data collection on all nodes for one given setting of the environment variables. "
   ]
  },
  {
   "cell_type": "code",
   "execution_count": null,
   "metadata": {
    "collapsed": true,
    "run_control": {
     "frozen": false,
     "read_only": false
    }
   },
   "outputs": [],
   "source": [
    "from acquiremap import one_run"
   ]
  },
  {
   "cell_type": "code",
   "execution_count": null,
   "metadata": {
    "run_control": {
     "frozen": false,
     "read_only": false
    },
    "scrolled": true
   },
   "outputs": [],
   "source": [
    "help(one_run)"
   ]
  },
  {
   "cell_type": "markdown",
   "metadata": {
    "run_control": {
     "frozen": false,
     "read_only": false
    }
   },
   "source": [
    "##### The `one_run` function implements a scenario in which each node sends a number of ping packets to every other node.\n",
    "\n",
    "In addition, all nodes run a tcpdump process, and at the end of the run, \n",
    "every pcap file (called `fit<N>.pcap` at node `N`) is analyzed locally at node N to \n",
    "retrieve the RSSI values received from each other node on its antenna(s), and the result \n",
    "is stored in file `result-N.txt` (still on node N).\n",
    "\n",
    "When all nodes are done, the results are fetched from all nodes and centralized on this laptop in a directory called `t{}-r{}-a{}-ch{}` containing all the files retrieved from all nodes, i.e., `fitN.pcap`, `result-N.txt` for all N nodes.\n",
    "\n",
    "With:\n",
    "\n",
    "* `t{}` identifies Tx power for sender nodes in dBm (e.g. 5 to 14):\n",
    "* `r{}` identifies PHY Tx rate used on all nodes (1 to 54 Mbps)\n",
    "* `a{}` identifies the antenna mask on all nodes\n",
    "* `ch{}` denotes the WiFi channel used for transmission\n",
    "\n",
    "At that point, the post-processing function `processmap.py` is invoked \n",
    "to generate intermediate files `rssi-<N>.txt` (one per node),\n",
    "and eventually one consolidated file `RSSI.txt`, that will be used to plot the radiomap.\n",
    "\n",
    "#### IMPORTANT NOTE:  Both Atheros 93xx (with ath9k driver) and Intel 5300 (with iwlwifi driver) a/b/g/n NICs are now supported in these scripts. However, both cards do no have the same features and in particular, the iwlwifi driver limits the number of wireless stations in the same IBSS (parameter IWLAGN_STATION_COUNT) to a dozen! So, if you run the script with the 37 nodes, you will observe strange behaviors... Also the Intel 5300 cards are not allowed to use the 5GHz band in Ad Hoc mode. One good point is that it is possible with these cards to decrease the TX power to 0dBm (the lower bound for Atheros cards is 5dBm)."
   ]
  },
  {
   "cell_type": "markdown",
   "metadata": {
    "run_control": {
     "frozen": false,
     "read_only": false
    }
   },
   "source": [
    "##  `all_runs`"
   ]
  },
  {
   "cell_type": "markdown",
   "metadata": {
    "run_control": {
     "frozen": false,
     "read_only": false
    }
   },
   "source": [
    "This function simply calls `one_run` with several combinations (a cartesian product) of environment settings."
   ]
  },
  {
   "cell_type": "code",
   "execution_count": null,
   "metadata": {
    "run_control": {
     "frozen": false,
     "read_only": false
    }
   },
   "outputs": [],
   "source": [
    "from acquiremap import all_runs\n",
    "help(all_runs)"
   ]
  },
  {
   "cell_type": "markdown",
   "metadata": {
    "run_control": {
     "frozen": false,
     "read_only": false
    }
   },
   "source": [
    "For example, instead of expecting a paramater `tx_power` that is a simple strings, it expects parameter `tx_powers` that is a list of `tx_power` strings to consider. So for example\n",
    "\n",
    "    all_runs(tx_powers=[5], phy_rates=[1, 54], antenna_masks=[3, 7])\n",
    "    \n",
    "would result in 4 runs of `one_run` with the 2 possible values for `phy_rates` multiplied by the 2 possible values for `antenna_masks`"
   ]
  },
  {
   "cell_type": "markdown",
   "metadata": {
    "run_control": {
     "frozen": false,
     "read_only": false
    }
   },
   "source": [
    "## shell interface"
   ]
  },
  {
   "cell_type": "markdown",
   "metadata": {
    "run_control": {
     "frozen": false,
     "read_only": false
    }
   },
   "source": [
    "The command-interface lets you essentially call `all_runs` directly from your shell"
   ]
  },
  {
   "cell_type": "code",
   "execution_count": null,
   "metadata": {
    "collapsed": true,
    "run_control": {
     "frozen": false,
     "read_only": false
    }
   },
   "outputs": [],
   "source": [
    "#!./acquiremap.py --help"
   ]
  },
  {
   "cell_type": "markdown",
   "metadata": {
    "run_control": {
     "frozen": false,
     "read_only": false
    }
   },
   "source": [
    "So by default this simple shell script will run the scenario \n",
    "with all values for Tx power, PHY Tx rate and Antenna configurations. \n",
    "Book R2lab for at least 2 hours to run it."
   ]
  },
  {
   "cell_type": "markdown",
   "metadata": {
    "run_control": {
     "frozen": false,
     "read_only": false
    }
   },
   "source": [
    "## Run your own"
   ]
  },
  {
   "cell_type": "markdown",
   "metadata": {
    "run_control": {
     "frozen": false,
     "read_only": false
    }
   },
   "source": [
    "The first-level directory name for results is a parameter for you to decide on,\n",
    "it defaults in the python code to `myradiomap` but you are encouraged \n",
    "to provide your own in order to isolate your results.\n",
    "\n",
    "Tweak the following cell to run your own data collection campaign:"
   ]
  },
  {
   "cell_type": "code",
   "execution_count": null,
   "metadata": {
    "collapsed": true,
    "run_control": {
     "frozen": false,
     "read_only": false
    }
   },
   "outputs": [],
   "source": [
    "# this plays the same role as 'datasample' -- see below -- but for your own data\n",
    "datadir = \"myradiomap-intel\""
   ]
  },
  {
   "cell_type": "code",
   "execution_count": null,
   "metadata": {
    "run_control": {
     "frozen": false,
     "read_only": false
    }
   },
   "outputs": [],
   "source": [
    "# uncomment this to run the data acquisition yourself\n",
    "# in the local 'myradiomap' subdir\n",
    "all_runs(run_name=datadir, tx_powers=[0,15], phy_rates=[1,54], \n",
    "         antenna_masks=[7], channels=[1], node_ids=[1,2,3,4,5,15,20,31,36,37], wireless_driver='iwlwifi',\n",
    "         load_images = True, slicename='inria_radiomap')"
   ]
  },
  {
   "cell_type": "markdown",
   "metadata": {
    "run_control": {
     "frozen": false,
     "read_only": false
    }
   },
   "source": [
    "# Plotting R2lab Radio-Maps"
   ]
  },
  {
   "cell_type": "markdown",
   "metadata": {
    "run_control": {
     "frozen": false,
     "read_only": false
    }
   },
   "source": [
    "## Prerequisites"
   ]
  },
  {
   "cell_type": "markdown",
   "metadata": {
    "run_control": {
     "frozen": false,
     "read_only": false
    }
   },
   "source": [
    "The git repository comes with a pre-populated dataset collected by us, in directory `datasample`.\n",
    "This contains all the RSSI information to run this visualization.\n",
    "Of course you can also collect your own RSSI data, tweak `datadir` accordingly in this case."
   ]
  },
  {
   "cell_type": "markdown",
   "metadata": {
    "run_control": {
     "frozen": false,
     "read_only": false
    }
   },
   "source": [
    "The `datasample` directory contains a collection of `RSSI.txt` files in the following subdirectories:\n",
    "\n",
    "* datasample/t14-r1-a1-ch1/RSSI.txt\n",
    "* datasample/t14-r1-a3-ch1/RSSI.txt\n",
    "* datasample/t14-r1-a7-ch1/RSSI.txt\n",
    "* datasample/t14-r54-a1-ch1/RSSI.txt\n",
    "* datasample/t14-r54-a3-ch1/RSSI.txt\n",
    "* datasample/t14-r54-a7-ch1/RSSI.txt\n",
    "* datasample/t5-r1-a1-ch1/RSSI.txt\n",
    "* datasample/t5-r1-a3-ch1/RSSI.txt\n",
    "* datasample/t5-r1-a7-ch1/RSSI.txt\n",
    "* datasample/t5-r54-a1-ch1/RSSI.txt\n",
    "* datasample/t5-r54-a3-ch1/RSSI.txt\n",
    "* datasample/t5-r54-a7-ch1/RSSI.txt\n",
    "\n",
    "Where\n",
    "\n",
    "* `t5` means an emission power of 5dBm\n",
    "\n",
    "* `r1` means PHY rate=1Mbps\n",
    "\n",
    "* `a1` means 1 single valid antenna - and so 2 values in RSSI.txt\n",
    "* `a3` means 2 valid antennas - and so 3 values in RSSI.txt\n",
    "* `a7` means 3 valid antennas - and so 4 value in RSSI.txt\n",
    "\n",
    "* `ch1` means channel 1, i.e. 2412 MHz frequency"
   ]
  },
  {
   "cell_type": "markdown",
   "metadata": {
    "run_control": {
     "frozen": false,
     "read_only": false
    }
   },
   "source": [
    "This naming scheme is implemented in a helper function in `acquiremap`:"
   ]
  },
  {
   "cell_type": "code",
   "execution_count": null,
   "metadata": {
    "collapsed": true,
    "run_control": {
     "frozen": false,
     "read_only": false
    }
   },
   "outputs": [],
   "source": [
    "from acquiremap import naming_scheme"
   ]
  },
  {
   "cell_type": "code",
   "execution_count": null,
   "metadata": {
    "run_control": {
     "frozen": false,
     "read_only": false
    }
   },
   "outputs": [],
   "source": [
    "naming_scheme('example-run', tx_power=5, phy_rate=1, antenna_mask=3, channel=40)"
   ]
  },
  {
   "cell_type": "markdown",
   "metadata": {
    "run_control": {
     "frozen": false,
     "read_only": false
    }
   },
   "source": [
    "***"
   ]
  },
  {
   "cell_type": "markdown",
   "metadata": {
    "run_control": {
     "frozen": false,
     "read_only": false
    }
   },
   "source": [
    "### Preparation\n",
    "\n",
    "\n",
    "\n"
   ]
  },
  {
   "cell_type": "markdown",
   "metadata": {
    "run_control": {
     "frozen": false,
     "read_only": false
    }
   },
   "source": [
    "\n",
    "\n",
    "\n",
    "\n"
   ]
  },
  {
   "cell_type": "code",
   "execution_count": null,
   "metadata": {
    "run_control": {
     "frozen": false,
     "read_only": false
    }
   },
   "outputs": [],
   "source": [
    "# automatic reload of modules in case of changes\n",
    "%load_ext autoreload\n",
    "%autoreload 2"
   ]
  },
  {
   "cell_type": "markdown",
   "metadata": {
    "run_control": {
     "frozen": false,
     "read_only": false
    }
   },
   "source": [
    "### Importing plotly"
   ]
  },
  {
   "cell_type": "code",
   "execution_count": null,
   "metadata": {
    "run_control": {
     "frozen": false,
     "read_only": false
    }
   },
   "outputs": [],
   "source": [
    "import plotly\n",
    "plotly.__version__"
   ]
  },
  {
   "cell_type": "code",
   "execution_count": null,
   "metadata": {
    "collapsed": true,
    "run_control": {
     "frozen": false,
     "read_only": false
    }
   },
   "outputs": [],
   "source": [
    "import plotly.plotly as py\n",
    "import plotly.graph_objs as go"
   ]
  },
  {
   "cell_type": "code",
   "execution_count": null,
   "metadata": {
    "run_control": {
     "frozen": false,
     "read_only": false
    }
   },
   "outputs": [],
   "source": [
    "# using plotly in offline mode is a requirement \n",
    "# in interactive mode - too slow otherwise\n",
    "import plotly.offline as pyoff\n",
    "\n",
    "pyoff.init_notebook_mode()"
   ]
  },
  {
   "cell_type": "code",
   "execution_count": null,
   "metadata": {
    "collapsed": true,
    "run_control": {
     "frozen": false,
     "read_only": false
    }
   },
   "outputs": [],
   "source": [
    "# interactive notebook widgets \n",
    "from ipywidgets import (interactive_output, fixed,\n",
    "                        IntSlider, Dropdown, Layout, HBox, VBox, Text)\n",
    "from IPython.display import display"
   ]
  },
  {
   "cell_type": "markdown",
   "metadata": {
    "run_control": {
     "frozen": false,
     "read_only": false
    }
   },
   "source": [
    "### Importing a few utilities to retrieve RSSI data from files and convert it to arrays"
   ]
  },
  {
   "cell_type": "code",
   "execution_count": null,
   "metadata": {
    "collapsed": true,
    "run_control": {
     "frozen": false,
     "read_only": false
    }
   },
   "outputs": [],
   "source": [
    "# to extract data from a RSSI file\n",
    "from rssi import read_rssi"
   ]
  },
  {
   "cell_type": "code",
   "execution_count": null,
   "metadata": {
    "collapsed": true,
    "run_control": {
     "frozen": false,
     "read_only": false
    }
   },
   "outputs": [],
   "source": [
    "# convert data into x, y and z\n",
    "from r2labmap import dict_to_xyzt, dict_to_3Dxyzt"
   ]
  },
  {
   "cell_type": "code",
   "execution_count": null,
   "metadata": {
    "collapsed": true,
    "run_control": {
     "frozen": false,
     "read_only": false
    }
   },
   "outputs": [],
   "source": [
    "# import a dictionary channel -> frequency\n",
    "from channels import channel_frequency, channel_options"
   ]
  },
  {
   "cell_type": "code",
   "execution_count": null,
   "metadata": {
    "collapsed": true,
    "run_control": {
     "frozen": false,
     "read_only": false
    }
   },
   "outputs": [],
   "source": [
    "from collections import OrderedDict"
   ]
  },
  {
   "cell_type": "markdown",
   "metadata": {
    "run_control": {
     "frozen": false,
     "read_only": false
    }
   },
   "source": [
    "***"
   ]
  },
  {
   "cell_type": "markdown",
   "metadata": {
    "run_control": {
     "frozen": false,
     "read_only": false
    }
   },
   "source": [
    "## Generating  2D RSSI Radio-Maps "
   ]
  },
  {
   "cell_type": "markdown",
   "metadata": {
    "run_control": {
     "frozen": false,
     "read_only": false
    }
   },
   "source": [
    "Let us start with some - admittedly a little abstruse - `ipywidgets` code whose purpose is only to come up with some decently compact layout for our control buttons."
   ]
  },
  {
   "cell_type": "code",
   "execution_count": null,
   "metadata": {
    "collapsed": true,
    "run_control": {
     "frozen": false,
     "read_only": false
    }
   },
   "outputs": [],
   "source": [
    "def radiomap_dashboard():\n",
    "    \"\"\"\n",
    "    some contorsions with ipywidgets to show controls in \n",
    "    a compact way\n",
    "    create and display a dashboard \n",
    "    return a dictionary name->widget suitable for interactive_output\n",
    "    \"\"\"\n",
    "    # dashboard pieces as widgets\n",
    "    l75 = Layout(width='75%')\n",
    "    l50 = Layout(width='50%')\n",
    "    l32 =  Layout(width='32%')\n",
    "    l25 =  Layout(width='25%')\n",
    "\n",
    "    # all space\n",
    "    w_datadir = Text(description=\"run name\", value=datadir,\n",
    "                     layout=l25)\n",
    "    w_sender = IntSlider(description=\"sender node\", \n",
    "                         min=1, max=37, step=1, value=21, \n",
    "                         continuous_update=False, layout=l75)\n",
    "    w_power = Dropdown(options=list(range(0, 16)),\n",
    "                       value=14, description=\"tx power in dBm\", layout=l32)\n",
    "    w_rate = Dropdown(options=[1, 54], value=1,\n",
    "                      description=\"phy rate\", layout=l32)\n",
    "    # yeah, this is a little weird all right\n",
    "    w_antenna_mask = Dropdown(options=OrderedDict([ (\"1\", 1), (\"2\", 3), (\"3\", 7)]),\n",
    "                              value=7,\n",
    "                              description=\"number of antennas: \", layout=l50)\n",
    "    w_channel = Dropdown(options=channel_options,\n",
    "                         value=1, description=\"channel\", layout=l32)\n",
    "    w_rssi_rank = IntSlider(min=0, max=3, value=0, \n",
    "                            description=\"RSSI rank: \", layout=l50)\n",
    "\n",
    "    # update range for the rssi_rank widget from selected antenna_mask\n",
    "    def update_rssi_rank_from_antennas(*args):\n",
    "        w_rssi_rank.max = 3 if w_antenna_mask.value == 7\\\n",
    "            else 2 if w_antenna_mask.value == 3 \\\n",
    "            else 1\n",
    "    w_antenna_mask.observe(update_rssi_rank_from_antennas, 'value')\n",
    "\n",
    "    # make up a dashboard\n",
    "    dashboard = VBox([HBox([w_datadir, w_sender]),\n",
    "                      HBox([w_power, w_rate, w_channel]),\n",
    "                      HBox([w_antenna_mask, w_rssi_rank])])\n",
    "    display(dashboard)\n",
    "    return dict(datadir=w_datadir, sender=w_sender,\n",
    "                power=w_power, rate=w_rate, channel=w_channel, \n",
    "                antenna_mask=w_antenna_mask,\n",
    "                rssi_rank=w_rssi_rank)"
   ]
  },
  {
   "cell_type": "markdown",
   "metadata": {
    "run_control": {
     "frozen": false,
     "read_only": false
    }
   },
   "source": [
    "With this in place, we can define a first visualization angle that relies on a 2D representation as offered by `plotly`'s `Heatmap` tool:"
   ]
  },
  {
   "cell_type": "code",
   "execution_count": null,
   "metadata": {
    "collapsed": true,
    "run_control": {
     "frozen": false,
     "read_only": false
    }
   },
   "outputs": [],
   "source": [
    "def radiomap2D(datadir, sender, power, rate, antenna_mask, channel, rssi_rank):\n",
    "    # locate corresponding data file\n",
    "    filename = str(naming_scheme(datadir, power, rate, antenna_mask, channel) / \"RSSI.txt\")\n",
    "    # read that file\n",
    "    data_dict = read_rssi(filename, sender, rssi_rank)\n",
    "    if not data_dict:\n",
    "        return\n",
    "\n",
    "    X, Y, Z, T = dict_to_xyzt(data_dict)\n",
    "    rssi = go.Heatmap( x=X, y=Y, z=Z, text=T, zmin=-100, zmax=0, zauto=False, opacity=1)\n",
    "    data = [rssi]\n",
    "    layout = go.Layout(\n",
    "        title=\"R2lab Radio-Map: Rx power (in dBm) when fit{:02d} is transmitting<br>from {}\"\n",
    "              .format(sender, filename))\n",
    "    figure = go.Figure(data = data, layout=layout)\n",
    "    pyoff.iplot(figure)"
   ]
  },
  {
   "cell_type": "code",
   "execution_count": null,
   "metadata": {
    "run_control": {
     "frozen": false,
     "read_only": false
    }
   },
   "outputs": [],
   "source": [
    "# interactively call radiomap2D\n",
    "interactive_output(radiomap2D, radiomap_dashboard())"
   ]
  },
  {
   "cell_type": "markdown",
   "metadata": {
    "run_control": {
     "frozen": false,
     "read_only": false
    }
   },
   "source": [
    "*****"
   ]
  },
  {
   "cell_type": "markdown",
   "metadata": {
    "run_control": {
     "frozen": false,
     "read_only": false
    }
   },
   "source": [
    "***"
   ]
  },
  {
   "cell_type": "markdown",
   "metadata": {
    "run_control": {
     "frozen": false,
     "read_only": false
    }
   },
   "source": [
    "## Generating 3D RSSI Radio-Maps"
   ]
  },
  {
   "cell_type": "markdown",
   "metadata": {
    "run_control": {
     "frozen": false,
     "read_only": false
    }
   },
   "source": [
    "Likewise, but this time using `plotly`'s `Surface` object:"
   ]
  },
  {
   "cell_type": "code",
   "execution_count": null,
   "metadata": {
    "collapsed": true,
    "run_control": {
     "frozen": false,
     "read_only": false
    }
   },
   "outputs": [],
   "source": [
    "def radiomap3D(datadir, sender, power, rate, antenna_mask, channel, rssi_rank):\n",
    "    # locate corresponding data file\n",
    "    filename = str(naming_scheme(datadir, power, rate, antenna_mask, channel) / \"RSSI.txt\")\n",
    "    # read that file\n",
    "    data_dict = read_rssi(filename, sender, rssi_rank)\n",
    "    if not data_dict:\n",
    "        return\n",
    "\n",
    "    X, Y, Z, T = dict_to_3Dxyzt(data_dict)\n",
    "    trace = go.Surface(x=X, y=Y, z=Z, text=T, zmin=-100, zmax=0,\n",
    "                       #connectgaps=False,\n",
    "                      )\n",
    "    data_test = go.Data([trace])\n",
    "    axis = dict(\n",
    "        showbackground=True, # show axis background                                                   \n",
    "        backgroundcolor=\"rgb(204, 204, 204)\", # set background color to grey                          \n",
    "        gridcolor=\"rgb(255, 255, 255)\",       # set grid line color                                   \n",
    "        zerolinecolor=\"rgb(255, 255, 255)\",   # set zero grid line color                              \n",
    "    )\n",
    "    title=\"R2lab Radio-Map: Rx power (in dBm) when fit{:02d} is transmitting<br>from {}\"\\\n",
    "          .format(sender, filename)\n",
    "    layout = go.Layout(\n",
    "        autosize=True,\n",
    "        title = title,\n",
    "        scene=go.Scene(                                     \n",
    "            xaxis=go.XAxis(axis), # set x-axis style                                                  \n",
    "            yaxis=go.YAxis(axis), # set y-axis style                                                  \n",
    "            zaxis=go.ZAxis(axis, title=\"RSSI (dBm)  \")  # set z-axis style                                                  \n",
    "        )\n",
    "    )\n",
    "    \n",
    "    figure = go.Figure(data=data_test, layout=layout)\n",
    "    pyoff.iplot(figure)"
   ]
  },
  {
   "cell_type": "code",
   "execution_count": null,
   "metadata": {
    "cell_style": "center",
    "run_control": {
     "frozen": false,
     "read_only": false
    }
   },
   "outputs": [],
   "source": [
    "# interactively call radiomap3D\n",
    "interactive_output(radiomap3D, radiomap_dashboard())"
   ]
  }
 ],
 "metadata": {
  "kernelspec": {
   "display_name": "Python 3",
   "language": "python",
   "name": "python3"
  },
  "language_info": {
   "codemirror_mode": {
    "name": "ipython",
    "version": 3
   },
   "file_extension": ".py",
   "mimetype": "text/x-python",
   "name": "python",
   "nbconvert_exporter": "python",
   "pygments_lexer": "ipython3",
   "version": "3.5.2"
  },
  "notebookname": "Purpose",
  "toc": {
   "colors": {
    "hover_highlight": "#DAA520",
    "running_highlight": "#FF0000",
    "selected_highlight": "#FFD700"
   },
   "moveMenuLeft": true,
   "nav_menu": {
    "height": "12px",
    "width": "252px"
   },
   "navigate_menu": true,
   "number_sections": true,
   "sideBar": true,
   "threshold": "2",
   "toc_cell": false,
   "toc_section_display": "block",
   "toc_window_display": false,
   "widenNotebook": false
  },
  "version": "1.0",
  "widgets": {
   "state": {
    "52c158639ebf409880e810444b58c12a": {
     "views": [
      {
       "cell_index": 22
      }
     ]
    },
    "e6321b84332540f5b5301444bc2e8a89": {
     "views": [
      {
       "cell_index": 18
      }
     ]
    }
   },
   "version": "1.2.0"
  }
 },
 "nbformat": 4,
 "nbformat_minor": 2
}
