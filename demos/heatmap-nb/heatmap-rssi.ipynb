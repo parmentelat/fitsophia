{
 "cells": [
  {
   "cell_type": "markdown",
   "metadata": {
    "deletable": true,
    "editable": true,
    "run_control": {
     "frozen": false,
     "read_only": false
    }
   },
   "source": [
    "# preparation"
   ]
  },
  {
   "cell_type": "code",
   "execution_count": null,
   "metadata": {
    "collapsed": false,
    "deletable": true,
    "editable": true,
    "run_control": {
     "frozen": false,
     "read_only": false
    }
   },
   "outputs": [],
   "source": [
    "# automatic reload of modules in case of changes\n",
    "%load_ext autoreload\n",
    "%autoreload 2"
   ]
  },
  {
   "cell_type": "markdown",
   "metadata": {
    "deletable": true,
    "editable": true,
    "run_control": {
     "frozen": false,
     "read_only": false
    }
   },
   "source": [
    "## importing plotly"
   ]
  },
  {
   "cell_type": "code",
   "execution_count": null,
   "metadata": {
    "collapsed": false,
    "deletable": true,
    "editable": true,
    "run_control": {
     "frozen": false,
     "read_only": false
    }
   },
   "outputs": [],
   "source": [
    "import plotly\n",
    "plotly.__version__"
   ]
  },
  {
   "cell_type": "code",
   "execution_count": null,
   "metadata": {
    "collapsed": true,
    "deletable": true,
    "editable": true,
    "run_control": {
     "frozen": false,
     "read_only": false
    }
   },
   "outputs": [],
   "source": [
    "import plotly.plotly as py\n",
    "import plotly.graph_objs as go"
   ]
  },
  {
   "cell_type": "code",
   "execution_count": null,
   "metadata": {
    "collapsed": false,
    "deletable": true,
    "editable": true,
    "run_control": {
     "frozen": false,
     "read_only": false
    }
   },
   "outputs": [],
   "source": [
    "# using plotly in offline mode is a requirement \n",
    "# in interactive mode - too slow otherwise\n",
    "import plotly.offline as pyoff\n",
    "\n",
    "pyoff.init_notebook_mode()"
   ]
  },
  {
   "cell_type": "code",
   "execution_count": null,
   "metadata": {
    "collapsed": true,
    "deletable": true,
    "editable": true,
    "run_control": {
     "frozen": false,
     "read_only": false
    }
   },
   "outputs": [],
   "source": [
    "# interactive notebook widgets \n",
    "from ipywidgets import interact, fixed, IntSlider, Dropdown"
   ]
  },
  {
   "cell_type": "markdown",
   "metadata": {
    "deletable": true,
    "editable": true,
    "run_control": {
     "frozen": false,
     "read_only": false
    }
   },
   "source": [
    "***"
   ]
  },
  {
   "cell_type": "markdown",
   "metadata": {
    "deletable": true,
    "editable": true,
    "run_control": {
     "frozen": false,
     "read_only": false
    }
   },
   "source": [
    "# our code"
   ]
  },
  {
   "cell_type": "code",
   "execution_count": null,
   "metadata": {
    "collapsed": false,
    "deletable": true,
    "editable": true,
    "run_control": {
     "frozen": false,
     "read_only": false
    }
   },
   "outputs": [],
   "source": [
    "# to extract data from a RSSI file\n",
    "from rssi import read_rssi"
   ]
  },
  {
   "cell_type": "code",
   "execution_count": null,
   "metadata": {
    "collapsed": false,
    "deletable": true,
    "editable": true,
    "run_control": {
     "frozen": false,
     "read_only": false
    }
   },
   "outputs": [],
   "source": [
    "# convert data into x, y and z\n",
    "from r2labmap import dict_to_xyzt"
   ]
  },
  {
   "cell_type": "markdown",
   "metadata": {},
   "source": [
    "# heatmap version 1"
   ]
  },
  {
   "cell_type": "markdown",
   "metadata": {},
   "source": [
    "Exploring a single `RSSI.txt` file"
   ]
  },
  {
   "cell_type": "code",
   "execution_count": null,
   "metadata": {
    "collapsed": false,
    "deletable": true,
    "editable": true,
    "run_control": {
     "frozen": false,
     "read_only": false
    }
   },
   "outputs": [],
   "source": [
    "def heatmap(filename, sender, rssi_rank):\n",
    "    X, Y, Z, T = dict_to_xyzt(read_rssi(filename, sender, rssi_rank))\n",
    "    rssi = go.Heatmap( x=X, y=Y, z=Z, text=T)\n",
    "    data = [rssi]\n",
    "    layout = go.Layout(\n",
    "        title=\"R2lab : RSSI(dBm) from {} when sender is fit{:02d} - rssi-rank={} \"\n",
    "              .format(filename, sender, rssi_rank))\n",
    "    figure = go.Figure(data = data, layout=layout)\n",
    "    pyoff.iplot(figure)"
   ]
  },
  {
   "cell_type": "code",
   "execution_count": null,
   "metadata": {
    "collapsed": false,
    "deletable": true,
    "editable": true,
    "run_control": {
     "frozen": false,
     "read_only": false
    }
   },
   "outputs": [],
   "source": [
    "interact(heatmap, \n",
    "         filename=fixed(\"DATA-RSSI.txt\"),\n",
    "         sender=IntSlider(min=1, max=37, step=1, value=21, continuous_update=False),\n",
    "         rssi_rank=IntSlider(min=0, max=3, value=0))"
   ]
  },
  {
   "cell_type": "markdown",
   "metadata": {
    "deletable": true,
    "editable": true
   },
   "source": [
    "# heatmap version 2"
   ]
  },
  {
   "cell_type": "markdown",
   "metadata": {
    "deletable": true,
    "editable": true
   },
   "source": [
    "Exploring a collection of `RSSI.txt` files; assume we have collected the following files"
   ]
  },
  {
   "cell_type": "markdown",
   "metadata": {},
   "source": [
    "```\n",
    "shere:logs turletti$ wc -l tra*/R*\n",
    "   1369 trace-T1400-r1-a1-t1-i0.008-S64-N10/RSSI.txt\n",
    "   1369 trace-T1400-r1-a3-t1-i0.008-S64-N10/RSSI.txt\n",
    "   1369 trace-T1400-r1-a7-t1-i0.008-S64-N10/RSSI.txt\n",
    "   1369 trace-T1400-r54-a1-t1-i0.008-S64-N10/RSSI.txt\n",
    "   1369 trace-T1400-r54-a3-t1-i0.008-S64-N10/RSSI.txt\n",
    "   1369 trace-T1400-r54-a7-t1-i0.008-S64-N10/RSSI.txt\n",
    "   1369 trace-T500-r1-a1-t1-i0.008-S64-N10/RSSI.txt\n",
    "   1369 trace-T500-r1-a3-t1-i0.008-S64-N10/RSSI.txt\n",
    "   1369 trace-T500-r1-a7-t1-i0.008-S64-N10/RSSI.txt\n",
    "   1369 trace-T500-r54-a1-t1-i0.008-S64-N10/RSSI.txt\n",
    "   1369 trace-T500-r54-a3-t1-i0.008-S64-N10/RSSI.txt\n",
    "   1369 trace-T500-r54-a7-t1-i0.008-S64-N10/RSSI.txt\n",
    "```"
   ]
  },
  {
   "cell_type": "markdown",
   "metadata": {},
   "source": [
    "Where\n",
    "\n",
    "* `T500` means an emission power of 5dBm\n",
    "* `T1400` means an emission power of 14dBm\n",
    "\n",
    "* r1 means PHY rate=1Mbps\n",
    "* r54 means PHY rate=54Mbps\n",
    "\n",
    "* `a1` means 1 single valid antenna - and so 2 values in RSSI.txt\n",
    "* `a3` means 2 valid antennas - and so 3 values in RSSI.txt\n",
    "* `a7` means 4 valid antennas - and so 4 value in RSSI.txt\n",
    "\n",
    "* `i0` `S64` and `N10` are ping parameters that are constant across the whole experiment\n",
    "\n",
    "* xxx Thierry 2 Thierry: xxx `t1` being a constant as well I assume..."
   ]
  },
  {
   "cell_type": "code",
   "execution_count": null,
   "metadata": {
    "collapsed": false,
    "deletable": true,
    "editable": true,
    "run_control": {
     "frozen": false,
     "read_only": false
    }
   },
   "outputs": [],
   "source": [
    "def heatmap2(sender, power, rate, antennas, rssi_rank):\n",
    "    \n",
    "    t_part = \"T{}\".format(power*100)\n",
    "    r_part = \"r{}\".format(rate)\n",
    "    # assuming antennas to be 1 3 or 7\n",
    "    a_part = \"a{}\".format(antennas)\n",
    "    filename = \"trace-{t_part}-{r_part}-{a_part}-t1-i0.008-S64-N10/RSSI.txt\"\\\n",
    "               .format(**locals())\n",
    "    \n",
    "    data_dict = read_rssi(filename, sender, rssi_rank)\n",
    "    if not data_dict:\n",
    "        return\n",
    "\n",
    "    X, Y, Z, T = dict_to_xyzt(data_dict)\n",
    "    rssi = go.Heatmap( x=X, y=Y, z=Z, text=T)\n",
    "    data = [rssi]\n",
    "    layout = go.Layout(\n",
    "        title=\"R2lab : received power in dBm when sender is fit{:02d}<br>from {}\"\n",
    "              .format(sender, filename))\n",
    "    figure = go.Figure(data = data, layout=layout)\n",
    "    pyoff.iplot(figure)"
   ]
  },
  {
   "cell_type": "code",
   "execution_count": null,
   "metadata": {
    "cell_style": "center",
    "collapsed": false,
    "deletable": true,
    "editable": true,
    "run_control": {
     "frozen": false,
     "read_only": false
    }
   },
   "outputs": [],
   "source": [
    "interact(heatmap2, \n",
    "         sender=IntSlider(min=1, max=37, step=1, value=21, continuous_update=False),\n",
    "         power=Dropdown( options=[5, 14], value=5, description=\"emission power in dBm\"),\n",
    "         rate=Dropdown(options=[1, 54], value=1, description=\"physical channel\"),\n",
    "         # yeah, this is weird all right\n",
    "         antennas=Dropdown(options={\"one\" : 1, \"two\": 3, \"four\": 7},\n",
    "                           value=1,\n",
    "                           description=\"how many antennas\"),\n",
    "         rssi_rank=IntSlider(min=0, max=3, value=0, \n",
    "                             description=\"rank - don't know how to tune with the antennas value\"),\n",
    "        )"
   ]
  }
 ],
 "metadata": {
  "kernelspec": {
   "display_name": "Python 3",
   "language": "python",
   "name": "python3"
  },
  "language_info": {
   "codemirror_mode": {
    "name": "ipython",
    "version": 3
   },
   "file_extension": ".py",
   "mimetype": "text/x-python",
   "name": "python",
   "nbconvert_exporter": "python",
   "pygments_lexer": "ipython3",
   "version": "3.5.3"
  },
  "toc": {
   "colors": {
    "hover_highlight": "#DAA520",
    "running_highlight": "#FF0000",
    "selected_highlight": "#FFD700"
   },
   "moveMenuLeft": true,
   "nav_menu": {
    "height": "12px",
    "width": "252px"
   },
   "navigate_menu": true,
   "number_sections": true,
   "sideBar": true,
   "threshold": "2",
   "toc_cell": false,
   "toc_section_display": "block",
   "toc_window_display": false,
   "widenNotebook": false
  },
  "widgets": {
   "state": {
    "4db5caa0cdb343b5a2991b03fd7cec7c": {
     "views": [
      {
       "cell_index": 14
      }
     ]
    },
    "777859b14ce649259f9b850f7afe75b1": {
     "views": [
      {
       "cell_index": 20
      }
     ]
    }
   },
   "version": "1.2.0"
  }
 },
 "nbformat": 4,
 "nbformat_minor": 2
}
